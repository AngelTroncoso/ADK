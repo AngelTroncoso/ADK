{
  "cells": [
    {
      "cell_type": "markdown",
      "metadata": {
        "id": "view-in-github",
        "colab_type": "text"
      },
      "source": [
        "<a href=\"https://colab.research.google.com/github/AngelTroncoso/ADK/blob/main/ADK_Learning_tools.ipynb\" target=\"_parent\"><img src=\"https://colab.research.google.com/assets/colab-badge.svg\" alt=\"Open In Colab\"/></a>"
      ]
    },
    {
      "cell_type": "markdown",
      "metadata": {
        "id": "oRXAzkz1iuRI"
      },
      "source": [
        "# 🚀 ¡Bienvenido a tu Aventura ADK - Herramientas y Memoria! 🚀\n",
        "\n",
        "¡Bienvenido, Agente Arquitecto! Este cuaderno es tu guía para otorgar a tus agentes de IA dos superpoderes esenciales: herramientas personalizadas y memoria conversacional.Al final de esta aventura, serás capaz de:- **Construir un Agente Fundamental**: Crear un agente de IA simple pero efectivo desde cero usando el Kit de Desarrollo de Agentes de Google (ADK).\n",
        "- **Otorgar Nuevas Habilidades con Herramientas Personalizadas**: Enseñar a un agente a realizar nuevas tareas conectándolo a APIs externas, como un servicio de clima en tiempo real.\n",
        "- **Crear un Equipo de Agentes**: Formar un sistema multiagente donde un agente principal pueda delegar tareas especializadas a otros agentes.\n",
        "- **Dominar la Memoria Conversacional**: Comprender el papel crítico de las Sesiones para permitir que los agentes recuerden interacciones previas, gestionen retroalimentación y mantengan una conversación coherente.¡Vamos a comenzar esta aventura!"
      ],
      "id": "oRXAzkz1iuRI"
    },
    {
      "cell_type": "markdown",
      "source": [
        "Hola, soy Qingyue (Annie) Wang, una defensora de desarrolladores e ingeniera de IA en **Google**, apasionada por ayudar a los desarrolladores a crear con tecnologías de IA y en la nube :)Si tienes preguntas sobre este cuaderno, contáctame en [LinkedIn](https://www.linkedin.com/in/qingyuewang/), [X](https://twitter.com/qingyuewang) o por correo electrónico anniewangtech0510@Gmail.com\n",
        "\n",
        "\n",
        "```\n",
        "  (\\__/)\n",
        "  (•ㅅ•)\n",
        "  /づ  📚      Enjoy learning AI Agents :)\n",
        "```"
      ],
      "metadata": {
        "id": "P1VUVWpwbscZ"
      },
      "id": "P1VUVWpwbscZ"
    },
    {
      "cell_type": "markdown",
      "source": [
        "\n",
        "-------------\n",
        "### 🎁 🛑 Requisito importante: ¡Configura tu entorno! 🛑 🎁\n",
        "-----------------------------------------------------------------------------\n",
        "\n",
        "👉 **Get Your API Key HERE**: https://codelabs.developers.google.com/onramp/instructions#1\n",
        "\n",
        " -----------------------------------------------------------------------------"
      ],
      "metadata": {
        "id": "DWCv6nsXciYT"
      },
      "id": "DWCv6nsXciYT"
    },
    {
      "cell_type": "markdown",
      "source": [
        "```\n",
        " ⬆️  ⬆️  ⬆️  ⬆️  ⬆️  ⬆️  ⬆️  ⬆️  ⬆️  ⬆️  ⬆️  ⬆️  ⬆️  ⬆️  ⬆️\n",
        "   /\\_/\\     /\\_/\\     /\\_/\\      /\\_/\\       /\\_/\\\n",
        "  ( ^_^ )   ( -.- )   ( >_< )   ( =^.^= )    ( o_o )             \n",
        "```\n"
      ],
      "metadata": {
        "id": "kSdmBNXuycsf"
      },
      "id": "kSdmBNXuycsf"
    },
    {
      "cell_type": "markdown",
      "metadata": {
        "id": "4LvyeireiuRK"
      },
      "source": [
        "## Parte 0: Configuración y Autenticación 🔑\n",
        "\n",
        "Primero lo primero, preparemos todas nuestras herramientas. Este paso instala las bibliotecas necesarias y configura de manera segura tu clave de API de Google para que tus agentes puedan acceder al poder de Gemini."
      ],
      "id": "4LvyeireiuRK"
    },
    {
      "cell_type": "code",
      "execution_count": null,
      "metadata": {
        "id": "1wkXA9koiuRK"
      },
      "outputs": [],
      "source": [
        "!pip install google-adk google-generativeai -q\n",
        "\n",
        "# --- Importa todas las bibliotecas necesarias para toda nuestra aventura ---\n",
        "import os\n",
        "import re\n",
        "import asyncio\n",
        "from IPython.display import display, Markdown\n",
        "import google.generativeai as genai\n",
        "from google.adk.agents import Agent\n",
        "from google.adk.tools import google_search\n",
        "from google.adk.runners import Runner\n",
        "from google.adk.sessions import InMemorySessionService, Session\n",
        "from google.genai.types import Content, Part\n",
        "from getpass import getpass\n",
        "\n",
        "print(\"✅ ¡Todas las bibliotecas están listas para usar!\")"
      ],
      "id": "1wkXA9koiuRK"
    },
    {
      "cell_type": "code",
      "execution_count": null,
      "metadata": {
        "id": "08Xq5kqfiuRK"
      },
      "outputs": [],
      "source": [
        "# --- Configura tu clave API de forma segura ---\n",
        "\n",
        "# Solicite al usuario su clave de API de forma segura\n",
        "api_key = getpass('Enter your Google API Key: ')\n",
        "\n",
        "# Obtén tu clave API AQUÍ 👉 https://codelabs.developers.google.com/onramp/instructions#0\n",
        "# Configura la biblioteca de IA generativa con la clave proporcionada\n",
        "genai.configure(api_key=api_key)\n",
        "\n",
        "# Establece la clave API como una variable de entorno para que ADK la use\n",
        "os.environ['GOOGLE_API_KEY'] = api_key\n",
        "\n",
        "print(\"✅ API Key configured successfully! Let the fun begin.\")"
      ],
      "id": "08Xq5kqfiuRK"
    },
    {
      "cell_type": "markdown",
      "metadata": {
        "id": "uE5IqZPniuRL"
      },
      "source": [
        "---\n",
        "## Parte 1: Tu Primer Agente - El Genio de las Excursiones de un Día 🧞\n",
        "\n",
        "¡Conoce tu primera creación! El `day_trip_agent` es un asistente simple pero poderoso. Lo estamos haciendo un poco más inteligente enseñándole a comprender **las restricciones de presupuesto**.\n",
        "\n",
        "* **Agente**: El cerebro de la operación, definido por sus instrucciones, herramientas y el modelo de IA que utiliza.\n",
        "\n",
        "* **Sesión**: El historial de la conversación. Para este agente simple, es solo un contenedor para una única solicitud-respuesta.\n",
        "\n",
        "* **Ejecutor**: El motor que conecta al `Agente` y la `Sesión` para procesar tu solicitud y obtener una respuesta."
      ],
      "id": "uE5IqZPniuRL"
    },
    {
      "cell_type": "markdown",
      "source": [
        "```\n",
        "+--------------------------------------------------+\n",
        "|         Agente de Excursiones Espontáneas 🤖     |\n",
        "|--------------------------------------------------|\n",
        "|  Model: gemini-2.5-flash                         |\n",
        "|  Description:                                    |\n",
        "|   Generates full-day trip itineraries based on   |\n",
        "|   mood, interests, and budget                    |\n",
        "|--------------------------------------------------|\n",
        "|  🔧 Tools:                                       |\n",
        "|   - Google Search                                |\n",
        "|--------------------------------------------------|\n",
        "|  🧠 Capabilities:                                |\n",
        "|   - Budget Awareness (cheap / splurge)           |\n",
        "|   - Mood Matching (adventurous, relaxing, etc.)  |\n",
        "|   - Real-Time Info (hours, events)               |\n",
        "|   - Morning / Afternoon / Evening plan           |\n",
        "+--------------------------------------------------+\n",
        "\n",
        "            ▲\n",
        "            |\n",
        "    +------------------+\n",
        "    |   User Input     |\n",
        "    |------------------|\n",
        "    |  Mood            |\n",
        "    |  Interests       |\n",
        "    |  Budget          |\n",
        "    +------------------+\n",
        "\n",
        "            |\n",
        "            ▼\n",
        "\n",
        "+--------------------------------------------------+\n",
        "|             Output: Markdown Itinerary           |\n",
        "|--------------------------------------------------|\n",
        "| - Time blocks (Morning / Afternoon / Evening)    |\n",
        "| - Venue names with links and hours               |\n",
        "| - Budget-matching activities                     |\n",
        "+--------------------------------------------------+\n",
        "```\n"
      ],
      "metadata": {
        "id": "vQ-av6Xzv7ry"
      },
      "id": "vQ-av6Xzv7ry"
    },
    {
      "cell_type": "code",
      "execution_count": null,
      "metadata": {
        "id": "BUuIPYuViuRL"
      },
      "outputs": [],
      "source": [
        "# --- Agent Definition ---\n",
        "\n",
        "def create_day_trip_agent():\n",
        "    \"\"\"Crear el agente Generador de Excursiones Espontáneas\"\"\"\n",
        "    return Agent(\n",
        "        name=\"day_trip_agent\",\n",
        "        model=\"gemini-2.5-flash\",\n",
        "        description=\"Agente especializado en generar itinerarios completos de un día de manera espontánea, según el estado de ánimo, intereses y presupuesto.\",\n",
        "        instruction=\"\"\"\n",
        "        Eres el Generador de \"Excursiones de un Día Espontáneas\" 🚗 - un asistente de IA especializado que crea itinerarios completos y atractivos para todo el día.\n",
        "\n",
        "        Tu Misión::\n",
        "        Transforma un estado de ánimo o interés simple en una aventura de excursión de un día completa con detalles en tiempo real, respetando un presupuesto.\n",
        "\n",
        "        Directrices:\n",
        "        1. **Consciente del presupuesto**: Presta mucha atención a las indicaciones sobre el presupuesto como 'barato', 'asequible' o 'lujo'. Utiliza Google Search para encontrar actividades (museos gratuitos, parques, atracciones de pago) que se ajusten al presupuesto del usuario.\n",
        "        2. **Estructura de día completo**: Crea actividades para la mañana, la tarde y la noche.\n",
        "        3. **Enfoque en tiempo real**: Busca los horarios de funcionamiento actuales y eventos especiales.\n",
        "        4. **Coincidencia con el estado de ánimo**: Alinea las sugerencias con el estado de ánimo solicitado (aventurero, relajante, artístico, etc.).\n",
        "        DEVOLVER el itinerario en FORMATO MARKDOWN con bloques de tiempo claros y nombres específicos de lugares.\n",
        "        \"\"\",\n",
        "        tools=[google_search]\n",
        "    )\n",
        "\n",
        "day_trip_agent = create_day_trip_agent()\n",
        "print(f\"🧞 Agent '{day_trip_agent.name}' está creado y listo para la aventura!\")"
      ],
      "id": "BUuIPYuViuRL"
    },
    {
      "cell_type": "code",
      "execution_count": null,
      "metadata": {
        "id": "j5Hq3Q0qiuRL"
      },
      "outputs": [],
      "source": [
        "# --- Una función auxiliar para ejecutar nuestros agentes ---\n",
        "# Usaremos esta función a lo largo del cuaderno para facilitar la ejecución de consultas\n",
        "\n",
        "async def run_agent_query(agent: Agent, query: str, session: Session, user_id: str, is_router: bool = False):\n",
        "    \"\"\"Inicializa un ejecutor y ejecuta una consulta para un agente y sesión determinados.\"\"\"\n",
        "    print(f\"\\n🚀 Ejecutando consulta para el agente: '{agent.name}' en sesión: '{session.id}'...\")\n",
        "\n",
        "    runner = Runner(\n",
        "        agent=agent,\n",
        "        session_service=session_service,\n",
        "        app_name=agent.name\n",
        "    )\n",
        "\n",
        "    final_response = \"\"\n",
        "    try:\n",
        "        async for event in runner.run_async(\n",
        "            user_id=user_id,\n",
        "            session_id=session.id,\n",
        "            new_message=Content(parts=[Part(text=query)], role=\"user\")\n",
        "        ):\n",
        "            if not is_router:\n",
        "                # Let's see what the agent is thinking!\n",
        "                print(f\"EVENT: {event}\")\n",
        "            if event.is_final_response():\n",
        "                final_response = event.content.parts[0].text\n",
        "    except Exception as e:\n",
        "        final_response = f\"An error occurred: {e}\"\n",
        "\n",
        "    if not is_router:\n",
        "     print(\"\\n\" + \"-\"*50)\n",
        "     print(\"✅ Final Response:\")\n",
        "     display(Markdown(final_response))\n",
        "     print(\"-\"*50 + \"\\n\")\n",
        "\n",
        "    return final_response\n",
        "\n",
        "# --- Inicializar nuestro Servicio de Sesión ---\n",
        "# Este único servicio gestionará todas las diferentes sesiones en nuestro cuaderno.\n",
        "session_service = InMemorySessionService()\n",
        "my_user_id = \"adk_adventurer_001\""
      ],
      "id": "j5Hq3Q0qiuRL"
    },
    {
      "cell_type": "code",
      "execution_count": null,
      "metadata": {
        "id": "9Sac25P-iuRL"
      },
      "outputs": [],
      "source": [
        "# --- ¡Vamos a probar el Genio de Excursiones de un Día! ---\n",
        "\n",
        "async def run_day_trip_genie():\n",
        "    # Crear una nueva sesión de un solo uso para esta consulta\n",
        "    day_trip_session = await session_service.create_session(\n",
        "        app_name=day_trip_agent.name,\n",
        "        user_id=my_user_id\n",
        "    )\n",
        "\n",
        "    # ¡Nota la nueva restricción presupuestaria en la consulta!\n",
        "    query = \"Plan a relaxing and artsy day trip near Sunnyvale, CA. Keep it affordable!\"\n",
        "    print(f\"🗣️ User Query: '{query}'\")\n",
        "\n",
        "    await run_agent_query(day_trip_agent, query, day_trip_session, my_user_id)\n",
        "\n",
        "await run_day_trip_genie()"
      ],
      "id": "9Sac25P-iuRL"
    },
    {
      "cell_type": "markdown",
      "source": [
        "---\n",
        "## Parte 2: Potenciando Agentes con Herramientas Personalizadas 🛠️\n",
        "\n",
        "Hasta ahora, hemos utilizado la poderosa herramienta incorporada `GoogleSearch`. Pero el verdadero poder de los agentes surge al conectarlos con tu propia lógica y fuentes de datos.\n",
        "\n",
        "Aquí es donde entran las **herramientas personalizadas**. Exploraremos tres patrones para dotar a tu agente de nuevas habilidades, utilizando ejemplos prácticos del mundo real."
      ],
      "metadata": {
        "id": "PEh5VSLFpKwc"
      },
      "id": "PEh5VSLFpKwc"
    },
    {
      "cell_type": "markdown",
      "source": [
        "### 2.1 La `FunctionTool` Simple: Llamando a una API de Clima en Tiempo Real\n",
        "\n",
        "La forma más directa de crear una herramienta es escribiendo una función en Python. Esto es perfecto para tareas sincrónicas como obtener datos de una API.\n",
        "\n",
        "**Concepto clave:** El **docstring** de la función es fundamental. El ADK lo utiliza como la descripción oficial de la herramienta, que el LLM lee para comprender su propósito, sus parámetros y cuándo usarla.\n",
        "\n",
        "En este ejemplo, crearemos una herramienta que llame a la **API gratuita y pública del Servicio Meteorológico Nacional de EE. UU.** para obtener un pronóstico en tiempo real. ¡No se necesita clave de API!"
      ],
      "metadata": {
        "id": "XS9r2opkpPQ7"
      },
      "id": "XS9r2opkpPQ7"
    },
    {
      "cell_type": "code",
      "source": [
        "# --- Definición de herramienta: Una función que llama a una API pública en vivo ---\n",
        "import requests\n",
        "import json\n",
        "\n",
        "# Una búsqueda simple para evitar necesitar una API de geocodificación separada para este ejemplo\n",
        "LOCATION_COORDINATES = {\n",
        "    \"sunnyvale\": \"37.3688,-122.0363\",\n",
        "    \"san francisco\": \"37.7749,-122.4194\",\n",
        "    \"lake tahoe\": \"39.0968,-120.0324\"\n",
        "}\n",
        "\n",
        "def get_live_weather_forecast(location: str) -> dict:\n",
        "    \"\"\"Gets the current, real-time weather forecast for a specified location in the US.\n",
        "\n",
        "    Args:\n",
        "        location: The city name, e.g., \"San Francisco\".\n",
        "\n",
        "    Returns:\n",
        "        A dictionary containing the temperature and a detailed forecast.\n",
        "    \"\"\"\n",
        "    print(f\"🛠️ TOOL CALLED: get_live_weather_forecast(location='{location}')\")\n",
        "\n",
        "# Encuentra las coordenadas de la ubicación\n",
        "    normalized_location = location.lower()\n",
        "    coords_str = None\n",
        "    for key, val in LOCATION_COORDINATES.items():\n",
        "        if key in normalized_location:\n",
        "            coords_str = val\n",
        "            break\n",
        "    if not coords_str:\n",
        "        return {\"status\": \"error\", \"message\": f\"I don't have coordinates for {location}.\"}\n",
        "\n",
        "    try:\n",
        "        # La API de NWS requiere 2 pasos: 1. Obtener la URL del pronóstico a partir de las coordenadas.\n",
        "        points_url = f\"https://api.weather.gov/points/{coords_str}\"\n",
        "        headers = {\"User-Agent\": \"ADK Example Notebook\"}\n",
        "        points_response = requests.get(points_url, headers=headers)\n",
        "        points_response.raise_for_status() # Generar una excepción para códigos de estado incorrectos\n",
        "        forecast_url = points_response.json()['properties']['forecast']\n",
        "\n",
        "        # 2. Obtén el pronóstico real desde la URL.\n",
        "        forecast_response = requests.get(forecast_url, headers=headers)\n",
        "        forecast_response.raise_for_status()\n",
        "\n",
        "        # Extraer los detalles relevantes del pronóstico\n",
        "        current_period = forecast_response.json()['properties']['periods'][0]\n",
        "        return {\n",
        "            \"status\": \"success\",\n",
        "            \"temperature\": f\"{current_period['temperature']}°{current_period['temperatureUnit']}\",\n",
        "            \"forecast\": current_period['detailedForecast']\n",
        "        }\n",
        "    except requests.exceptions.RequestException as e:\n",
        "        return {\"status\": \"error\", \"message\": f\"API request failed: {e}\"}\n",
        "\n",
        "# --- Definición del Agente: Un agente que UTILIZA la nueva herramienta ---\n",
        "\n",
        "weather_agent = Agent(\n",
        "    name=\"weather_aware_planner\",\n",
        "    model=\"gemini-2.5-flash\",\n",
        "    description=\"A trip planner that checks the real-time weather before making suggestions.\",\n",
        "    instruction=\"You are a cautious trip planner. Before suggesting any outdoor activities, you MUST use the `get_live_weather_forecast` tool to check conditions. Incorporate the live weather details into your recommendation.\",\n",
        "    tools=[get_live_weather_forecast]\n",
        ")\n",
        "\n",
        "print(f\"🌦️ Agent '{weather_agent.name}' is created and can now call a live weather API!\")"
      ],
      "metadata": {
        "id": "9onw-v48pQT6"
      },
      "id": "9onw-v48pQT6",
      "execution_count": null,
      "outputs": []
    },
    {
      "cell_type": "code",
      "source": [
        "# --- Probemos el Planificador Consciente del Clima ---\n",
        "\n",
        "async def run_weather_planner_test():\n",
        "    weather_session = await session_service.create_session(app_name=weather_agent.name, user_id=my_user_id)\n",
        "    query = \"I want to go hiking near Lake Tahoe, what's the weather like?\"\n",
        "    print(f\"🗣️ User Query: '{query}'\")\n",
        "    await run_agent_query(weather_agent, query, weather_session, my_user_id)\n",
        "\n",
        "await run_weather_planner_test()"
      ],
      "metadata": {
        "id": "wn7G7Ub3pbBL"
      },
      "id": "wn7G7Ub3pbBL",
      "execution_count": null,
      "outputs": []
    },
    {
      "cell_type": "markdown",
      "source": [
        "## 2.2 El Agente como Herramienta: Consultando a un Especialista 🧑‍🍳\n",
        "\n",
        "¿Por qué construir un agente que haga todo cuando puedes construir un **equipo de agentes especialistas?** El patrón de **Agente-como-Herramienta** permite que un agente delegue una tarea a otro agente.\n",
        "\n",
        "**Concepto clave:** Esto es diferente de un subagente. Cuando el Agente A llama al Agente B como una herramienta, la respuesta del Agente B se pasa **de vuelta al Agente A**. Luego, el Agente A utiliza esa información para formar su propia respuesta final al usuario. Es una forma poderosa de componer comportamientos complejos a partir de agentes más simples, enfocados y reutilizables."
      ],
      "metadata": {
        "id": "F1abEaq5pyt4"
      },
      "id": "F1abEaq5pyt4"
    },
    {
      "cell_type": "markdown",
      "source": [
        "### Cómo funciona\n",
        "\n",
        "Nuestro agente de nivel superior, el `trip_data_concierge_agent`, actúa como el **Orquestador**. Tiene dos herramientas a su disposición:\n",
        "\n",
        "1.  `call_db_agent`: Una función que llama internamente a nuestro `db_agent` para obtener datos en bruto.\n",
        "2.  `call_concierge_agent`: Una función que llama a la `concierge_agent`.\n",
        "\n",
        "la `concierge_agent` tiene en sí mismo una herramienta: la `food_critic_agent`.\n",
        "\n",
        "El flujo para una consulta compleja es:\n",
        "\n",
        "1. **Usuario** solicita al `trip_data_concierge_agent` un hotel y un restaurante cercano.\n",
        "2. El **Orquestador** primero llama a `call_db_agent` para obtener datos del hotel.\n",
        "3. Los datos se guardan en `tool_context.state`.\n",
        "4. Luego, el **Orquestador** llama a `call_concierge_agent`, que recupera los datos del hotel del contexto.\n",
        "5. El `concierge_agent` recibe la solicitud y decide que necesita usar su propia herramienta, el `food_critic_agent`.\n",
        "6. El `food_critic_agent` proporciona una recomendación ingeniosa.\n",
        "7. El `concierge_agent` obtiene la respuesta del crítico y la formatea cortésmente.8. Esta respuesta final y pulida se devuelve al **Orquestador**, que la presenta al usuario."
      ],
      "metadata": {
        "id": "U5J4pMZDlLq9"
      },
      "id": "U5J4pMZDlLq9"
    },
    {
      "cell_type": "code",
      "source": [],
      "metadata": {
        "id": "XMRyEtcGb1c8"
      },
      "id": "XMRyEtcGb1c8",
      "execution_count": null,
      "outputs": []
    },
    {
      "cell_type": "markdown",
      "source": [
        "                         +-----------------------------------------------------------+\n",
        "                         |              🧭 Trip Data Concierge Agent                 |\n",
        "                         |-----------------------------------------------------------|\n",
        "                         |  Model: gemini-2.5-flash                                  |\n",
        "                         |  Description:                                             |\n",
        "                         |   Orchestrates database query and travel recommendation  |\n",
        "                         |-----------------------------------------------------------|\n",
        "                         |  🔧 Tools:                                                |\n",
        "                         |   1. call_db_agent                                        |\n",
        "                         |   2. call_concierge_agent                                 |\n",
        "                         +-----------------------------------------------------------+\n",
        "                                      /                                \\\n",
        "                                     /                                  \\\n",
        "                                    ▼                                    ▼\n",
        "        +-------------------------------------------+    +---------------------------------------------+\n",
        "        |            🔧 Tool: call_db_agent         |    |         🔧 Tool: call_concierge_agent        |\n",
        "        |-------------------------------------------|    |---------------------------------------------|\n",
        "        | Calls: db_agent                           |    | Calls: concierge_agent                       |\n",
        "        |                                           |    | Uses data from db_agent for recommendations |\n",
        "        +-------------------------------------------+    +---------------------------------------------+\n",
        "                                |                                          |\n",
        "                                ▼                                          ▼\n",
        "       +--------------------------------------------+   +------------------------------------------------+\n",
        "       |              📦 db_agent                   |   |             🤵 concierge_agent                  |\n",
        "       |--------------------------------------------|   |------------------------------------------------|\n",
        "       | Model: gemini-2.5-flash                    |   | Model: gemini-2.5-flash                         |\n",
        "       | Role: Return mock JSON hotel data          |   | Role: Hotel staff that handles user Q&A        |\n",
        "       +--------------------------------------------+   | Tools:                                          |\n",
        "                                                         |  - food_critic_agent                           |\n",
        "                                                         +------------------------------------------------+\n",
        "                                                                                 |\n",
        "                                                                                 ▼\n",
        "                                                       +------------------------------------------------+\n",
        "                                                       |          🍽️ food_critic_agent                  |\n",
        "                                                       |------------------------------------------------|\n",
        "                                                       | Model: gemini-2.5-flash                         |\n",
        "                                                       | Role: Gives a witty restaurant recommendation   |\n",
        "                                                       +------------------------------------------------+\n"
      ],
      "metadata": {
        "id": "lpxobYg7mOSB"
      },
      "id": "lpxobYg7mOSB"
    },
    {
      "cell_type": "code",
      "source": [
        "import asyncio\n",
        "from google.adk.tools import ToolContext\n",
        "from google.adk.tools.agent_tool import AgentTool\n",
        "\n",
        "# Supongamos que 'db_agent' es un agente NL2SQL predefinido\n",
        "# Para este ejemplo, crearemos agentes de marcador de posición.\n",
        "\n",
        "db_agent = Agent(\n",
        "    name=\"db_agent\",\n",
        "    model=\"gemini-2.5-flash\",\n",
        "    instruction=\"You are a database agent. When asked for data, return this mock JSON object: {'status': 'success', 'data': [{'name': 'The Grand Hotel', 'rating': 5, 'reviews': 450}, {'name': 'Seaside Inn', 'rating': 4, 'reviews': 620}]}\")\n",
        "\n",
        "# --- 1. Definir los Agentes Especialistas ---\n",
        "\n",
        "# El Crítico Gastronómico sigue siendo el especialista más profundo\n",
        "food_critic_agent = Agent(\n",
        "    name=\"food_critic_agent\",\n",
        "    model=\"gemini-2.5-flash\",\n",
        "    instruction=\"You are a snobby but brilliant food critic. You ONLY respond with a single, witty restaurant suggestion near the provided location.\",\n",
        ")\n",
        "\n",
        "# El conserje sabe cómo usar al crítico gastronómico\n",
        "concierge_agent = Agent(\n",
        "    name=\"concierge_agent\",\n",
        "    model=\"gemini-2.5-flash\",\n",
        "    instruction=\"You are a five-star hotel concierge. If the user asks for a restaurant recommendation, you MUST use the `food_critic_agent` tool. Present the opinion to the user politely.\",\n",
        "    tools=[AgentTool(agent=food_critic_agent)]\n",
        ")\n",
        "\n",
        "\n",
        "# --- 2. Definir las herramientas para el orquestador ---\n",
        "\n",
        "async def call_db_agent(\n",
        "    question: str,\n",
        "    tool_context: ToolContext,\n",
        "):\n",
        "    \"\"\"\n",
        "    Use this tool FIRST to connect to the database and retrieve a list of places, like hotels or landmarks.\n",
        "    \"\"\"\n",
        "    print(\"--- TOOL CALL: call_db_agent ---\")\n",
        "    agent_tool = AgentTool(agent=db_agent)\n",
        "    db_agent_output = await agent_tool.run_async(\n",
        "        args={\"request\": question}, tool_context=tool_context\n",
        "    )\n",
        "    # Almacenar los datos recuperados en el estado del contexto\n",
        "    tool_context.state[\"retrieved_data\"] = db_agent_output\n",
        "    return db_agent_output\n",
        "\n",
        "\n",
        "async def call_concierge_agent(\n",
        "    question: str,\n",
        "    tool_context: ToolContext,\n",
        "):\n",
        "    \"\"\"\n",
        "    After getting data with call_db_agent, use this tool to get travel advice, opinions, or recommendations.\n",
        "    \"\"\"\n",
        "    print(\"--- TOOL CALL: call_concierge_agent ---\")\n",
        "    # Recuperar los datos obtenidos por la herramienta anterior\n",
        "    input_data = tool_context.state.get(\"retrieved_data\", \"No data found.\")\n",
        "\n",
        "    # Formular un nuevo prompt para el conserje, proporcionándole el contexto de los datos\n",
        "    question_with_data = f\"\"\"\n",
        "    Context: The database returned the following data: {input_data}\n",
        "\n",
        "    User's Request: {question}\n",
        "    \"\"\"\n",
        "\n",
        "    agent_tool = AgentTool(agent=concierge_agent)\n",
        "    concierge_output = await agent_tool.run_async(\n",
        "        args={\"request\": question_with_data}, tool_context=tool_context\n",
        "    )\n",
        "    return concierge_output\n",
        "\n",
        "\n",
        "# --- 3. Definir el Agente Orquestador de Nivel Superior ---\n",
        "\n",
        "trip_data_concierge_agent = Agent(\n",
        "    name=\"trip_data_concierge\",\n",
        "    model=\"gemini-2.5-flash\",\n",
        "    description=\"Top-level agent that queries a database for travel data, then calls a concierge agent for recommendations.\",\n",
        "    tools=[call_db_agent, call_concierge_agent],\n",
        "    instruction=\"\"\"\n",
        "    You are a master travel planner who uses data to make recommendations.\n",
        "\n",
        "    1.  **ALWAYS start with the `call_db_agent` tool** to fetch a list of places (like hotels) that match the user's criteria.\n",
        "\n",
        "    2.  After you have the data, **use the `call_concierge_agent` tool** to answer any follow-up questions for recommendations, opinions, or advice related to the data you just found.\n",
        "    \"\"\",\n",
        ")\n",
        "\n",
        "print(f\"✅ Orchestrator Agent '{trip_data_concierge_agent.name}' is defined and ready.\")"
      ],
      "metadata": {
        "id": "LHAKKcmvgQKs"
      },
      "id": "LHAKKcmvgQKs",
      "execution_count": null,
      "outputs": []
    },
    {
      "cell_type": "code",
      "source": [
        "# --- Probemos al Agente Conserje de Datos de Viaje -----\n",
        "\n",
        "async def run_trip_data_concierge():\n",
        "    \"\"\"\n",
        "    Sets up a session and runs a query against the top-level\n",
        "    trip_data_concierge_agent.\n",
        "    \"\"\"\n",
        "    # Crear una nueva sesión de un solo uso para esta consulta\n",
        "    concierge_session = await session_service.create_session(\n",
        "        app_name=trip_data_concierge_agent.name,\n",
        "        user_id=my_user_id\n",
        "    )\n",
        "\n",
        "    # Esta consulta está diseñada específicamente para activar el proceso completo de dos pasos:\n",
        "    # 1. Obtener datos del db_agent.\n",
        "    # 2. Obtener una recomendación del concierge_agent basada en esos datos.\n",
        "    query = \"Find the top-rated hotels in San Francisco from the database, then suggest a dinner spot near the one with the most reviews.\"\n",
        "    print(f\"🗣️ User Query: '{query}'\")\n",
        "\n",
        "    # Llamamos a nuestra función de ayuda existente con el agente orquestador de nivel superior\n",
        "    await run_agent_query(trip_data_concierge_agent, query, concierge_session, my_user_id)\n",
        "\n",
        "# Ejecuta la prueba\n",
        "await run_trip_data_concierge()"
      ],
      "metadata": {
        "id": "9jLyDQA1hTc-"
      },
      "id": "9jLyDQA1hTc-",
      "execution_count": null,
      "outputs": []
    },
    {
      "cell_type": "markdown",
      "metadata": {
        "id": "h75-37LLiuRM"
      },
      "source": [
        "---\n",
        "## Parte 3: Agente con Memoria - El Planificador Adaptativo 🗺️\n",
        "\n",
        "Ahora, veamos un agente que no solo **recuerda**, sino que también **se adapta**. Desafiaremos al `multi_day_trip_agent` a replanificar parte de su itinerario basado en nuestros comentarios. Esta es una prueba mucho más realista de la IA conversacional."
      ],
      "id": "h75-37LLiuRM"
    },
    {
      "cell_type": "markdown",
      "source": [
        "```\n",
        "+-----------------------------------------------------+\n",
        "|         Adaptive Multi-Day Trip Agent 🗺️           |\n",
        "|-----------------------------------------------------|\n",
        "|  Model: gemini-2.5-flash                            |\n",
        "|  Description:                                       |\n",
        "|   Builds multi-day travel itineraries step-by-step, |\n",
        "|   remembers previous days, adapts to feedback       |\n",
        "|-----------------------------------------------------|\n",
        "|  🔧 Tools:                                          |\n",
        "|   - Google Search                                   |\n",
        "|-----------------------------------------------------|\n",
        "|  🧠 Capabilities:                                   |\n",
        "|   - Memory of past conversation & preferences       |\n",
        "|   - Progressive planning (1 day at a time)          |\n",
        "|   - Adapts to user feedback                         |\n",
        "|   - Ensures activity variety across days            |\n",
        "+-----------------------------------------------------+\n",
        "\n",
        "            ▲\n",
        "            |\n",
        "    +---------------------------+\n",
        "    |     User Interaction      |\n",
        "    |---------------------------|\n",
        "    | - Destination             |\n",
        "    | - Trip duration           |\n",
        "    | - Interests & feedback    |\n",
        "    +---------------------------+\n",
        "\n",
        "            |\n",
        "            ▼\n",
        "\n",
        "+-----------------------------------------------------+\n",
        "|        Day-by-Day Itinerary Generation              |\n",
        "|-----------------------------------------------------|\n",
        "|  🗓️ Day N Output (Markdown format):                 |\n",
        "|   - Morning / Afternoon / Evening activities        |\n",
        "|   - Personalized & context-aware                    |\n",
        "|   - Changes accepted, feedback acknowledged         |\n",
        "+-----------------------------------------------------+\n",
        "\n",
        "            |\n",
        "            ▼\n",
        "\n",
        "+-----------------------------------------------------+\n",
        "|        Next Day Planning Triggered 🚀               |\n",
        "|-----------------------------------------------------|\n",
        "| - Builds on prior days                              |\n",
        "| - Avoids repetition                                 |\n",
        "| - Asks user for confirmation before proceeding      |\n",
        "+-----------------------------------------------------+\n",
        "```\n"
      ],
      "metadata": {
        "id": "nDBqGvEnwnxt"
      },
      "id": "nDBqGvEnwnxt"
    },
    {
      "cell_type": "code",
      "execution_count": null,
      "metadata": {
        "id": "Xd0SUvnjiuRM"
      },
      "outputs": [],
      "source": [
        "# --- Definición del Agente: El Planificador Adaptativo ---\n",
        "\n",
        "def create_multi_day_trip_agent():\n",
        "    \"\"\"Create the Progressive Multi-Day Trip Planner agent\"\"\"\n",
        "    return Agent(\n",
        "        name=\"multi_day_trip_agent\",\n",
        "        model=\"gemini-2.5-flash\",\n",
        "        description=\"Agent that progressively plans a multi-day trip, remembering previous days and adapting to user feedback.\",\n",
        "        instruction=\"\"\"\n",
        "        You are the \"Adaptive Trip Planner\" 🗺️ - an AI assistant that builds multi-day travel itineraries step-by-step.\n",
        "\n",
        "        Your Defining Feature:\n",
        "        You have short-term memory. You MUST refer back to our conversation to understand the trip's context, what has already been planned, and the user's preferences. If the user asks for a change, you must adapt the plan while keeping the unchanged parts consistent.\n",
        "\n",
        "        Your Mission:\n",
        "        1.  **Initiate**: Start by asking for the destination, trip duration, and interests.\n",
        "        2.  **Plan Progressively**: Plan ONLY ONE DAY at a time. After presenting a plan, ask for confirmation.\n",
        "        3.  **Handle Feedback**: If a user dislikes a suggestion (e.g., \"I don't like museums\"), acknowledge their feedback, and provide a *new, alternative* suggestion for that time slot that still fits the overall theme.\n",
        "        4.  **Maintain Context**: For each new day, ensure the activities are unique and build logically on the previous days. Do not suggest the same things repeatedly.\n",
        "        5.  **Final Output**: Return each day's itinerary in MARKDOWN format.\n",
        "        \"\"\",\n",
        "        tools=[google_search]\n",
        "    )\n",
        "\n",
        "multi_day_agent = create_multi_day_trip_agent()\n",
        "print(f\"🗺️ Agent '{multi_day_agent.name}' is created and ready to plan and adapt!\")"
      ],
      "id": "Xd0SUvnjiuRM"
    },
    {
      "cell_type": "markdown",
      "source": [
        "### Scenario 3a: Agent WITH Memory (Using a SINGLE Session) ✅\n",
        "\n",
        "First, let's see the correct way to do it. We will use the **exact same `trip_session` object** for the entire conversation. Watch how the agent remembers the context from Turn 1 to correctly handle the requests in Turn 2 and 3."
      ],
      "metadata": {
        "id": "y3OEHGOsmwVs"
      },
      "id": "y3OEHGOsmwVs"
    },
    {
      "cell_type": "code",
      "execution_count": null,
      "metadata": {
        "id": "z2mDXEA8iuRM"
      },
      "outputs": [],
      "source": [
        "# --- Escenario 2: Prueba de Adaptación y Memoria ---\n",
        "\n",
        "async def run_adaptive_memory_demonstration():\n",
        "    print(\"### 🧠 DEMO 2: AGENT THAT ADAPTS (SAME SESSION) ###\")\n",
        "\n",
        "    # Crear UNA sesión que reutilizaremos para toda la conversación\n",
        "    trip_session = await session_service.create_session(\n",
        "        app_name=multi_day_agent.name,\n",
        "        user_id=my_user_id\n",
        "    )\n",
        "    print(f\"Created a single session for our trip: {trip_session.id}\")\n",
        "\n",
        "    # --- Turno 1: El usuario inicia el viaje ---\n",
        "    query1 = \"Hi! I want to plan a 2-day trip to Lisbon, Portugal. I'm interested in historic sites and great local food.\"\n",
        "    print(f\"\\n🗣️ User (Turn 1): '{query1}'\")\n",
        "    await run_agent_query(multi_day_agent, query1, trip_session, my_user_id)\n",
        "\n",
        "    # --- Turno 2: El usuario DA COMENTARIOS y solicita un CAMBIO ---\n",
        "    # ¡Usamos el MISMO objeto `trip_session`!\n",
        "    query2 = \"That sounds pretty good, but I'm not a huge fan of castles. Can you replace the morning activity for Day 1 with something else historical?\"\n",
        "    print(f\"\\n🗣️ User (Turn 2 - Feedback): '{query2}'\")\n",
        "    await run_agent_query(multi_day_agent, query2, trip_session, my_user_id)\n",
        "\n",
        "    # --- Turno 3: El usuario confirma y pide continuar ---!\n",
        "    query3 = \"Yes, the new plan for Day 1 is perfect! Please plan Day 2 now, keeping the food theme in mind.\"\n",
        "    print(f\"\\n🗣️ User (Turn 3 - Confirmation): '{query3}'\")\n",
        "    await run_agent_query(multi_day_agent, query3, trip_session, my_user_id)\n",
        "\n",
        "await run_adaptive_memory_demonstration()"
      ],
      "id": "z2mDXEA8iuRM"
    },
    {
      "cell_type": "markdown",
      "source": [
        "### Escenario 3b: Agente SIN Memoria (Usando sesiones SEPARADAS) ❌\n",
        "\n",
        "Ahora, veamos qué pasa si arruinamos la gestión de nuestra sesión. Aquí, le daremos al agente un caso de amnesia creando una **sesión completamente nueva y separada para cada turno**.\n",
        "\n",
        "Presta mucha atención a la respuesta del agente a la segunda consulta. ¡Como está en una nueva sesión, no tiene memoria del viaje a Lisboa que acabamos de discutir!"
      ],
      "metadata": {
        "id": "9yBZUjlvmkVR"
      },
      "id": "9yBZUjlvmkVR"
    },
    {
      "cell_type": "code",
      "source": [
        "# --- Escenario 2b: Demostrando FALLO DE MEMORIA ---\n",
        "\n",
        "async def run_memory_failure_demonstration():\n",
        "    print(\"\\n\" + \"#\"*60)\n",
        "    print(\"### 🧠 DEMO 2b: AGENT WITH AMNESIA (SEPARATE SESSIONS) ###\")\n",
        "    print(\"#\"*60)\n",
        "\n",
        "    # --- Turno 1: El usuario inicia el viaje en la PRIMERA sesión ---\n",
        "    query1 = \"Hi! I want to plan a 2-day trip to Lisbon, Portugal. I'm interested in historic sites and great local food.\"\n",
        "    session_one = await session_service.create_session(\n",
        "        app_name=multi_day_agent.name,\n",
        "        user_id=my_user_id\n",
        "    )\n",
        "    print(f\"\\nCreated a session for Turn 1: {session_one.id}\")\n",
        "    print(f\"🗣️ User (Turn 1): '{query1}'\")\n",
        "    await run_agent_query(multi_day_agent, query1, session_one, my_user_id)\n",
        "\n",
        "    # --- Turno 2: El usuario pide continuar... pero en una sesión completamente NUEVA ---\n",
        "    query2 = \"Yes, that looks perfect! Please plan Day 2.\"\n",
        "    session_two = await session_service.create_session(\n",
        "        app_name=multi_day_agent.name,\n",
        "        user_id=my_user_id\n",
        "    )\n",
        "    print(f\"\\nCreated a BRAND NEW session for Turn 2: {session_two.id}\")\n",
        "    print(f\"🗣️ User (Turn 2): '{query2}'\")\n",
        "    await run_agent_query(multi_day_agent, query2, session_two, my_user_id)\n",
        "\n",
        "await run_memory_failure_demonstration()"
      ],
      "metadata": {
        "id": "bIs87iFCm0Vg"
      },
      "id": "bIs87iFCm0Vg",
      "execution_count": null,
      "outputs": []
    },
    {
      "cell_type": "markdown",
      "source": [
        "¿Ves? ¡El agente estaba confundido! Probablemente preguntó cuál era el destino o de qué viaje estábamos hablando. Como la segunda consulta se realizó en una sesión nueva y aislada, el agente no recordaba haber planificado el Día 1 en Lisboa.\n",
        "\n",
        "¡Esto ilustra perfectamente por qué **gestionar las sesiones es la clave para construir agentes verdaderamente conversacionales!**"
      ],
      "metadata": {
        "id": "IG0wc6djm4kT"
      },
      "id": "IG0wc6djm4kT"
    },
    {
      "cell_type": "markdown",
      "metadata": {
        "id": "T2ErcoGhiuRN"
      },
      "source": [
        "---\n",
        "## 🎉 ¡Felicidades! 🎉\n",
        "\n",
        "¡Felicidades por completar tu aventura en ADK sobre Herramientas y Memoria! Has dado un gran salto al pasar de construir agentes de un solo uso a crear sistemas de IA dinámicos y con estado.\n",
        "\n",
        "Recapitulemos los conceptos poderosos que has dominado:\n",
        "\n",
        "- **Agente Fundamental y Herramientas**: Comenzaste construyendo un \"Genio de Excursiones de un Día\" y lo equipaste con su primera herramienta, GoogleSearch.\n",
        "- **Herramientas de Funciones Personalizadas**: Le diste a tu agente un nuevo sentido creando una herramienta personalizada para obtener datos en tiempo real de la API del Servicio Meteorológico Nacional de EE. UU.\n",
        "- **Agente como Herramienta**: Orquestaste una jerarquía sofisticada donde los agentes delegan tareas a otros agentes más especializados, creando un equipo colaborativo.\n",
        "- **El Poder de la Memoria**: Lo más importante es que experimentaste de primera mano cómo gestionar una sesión persistente permite a un agente recordar el contexto, adaptarse a la retroalimentación del usuario y llevar a cabo una conversación significativa de múltiples turnos."
      ],
      "id": "T2ErcoGhiuRN"
    },
    {
      "cell_type": "markdown",
      "source": [
        "```\n",
        "   __            /\\_/\\         /\\_/\\        /\\_/\\         __             (\\__/)\n",
        "o-''|\\_____/).  ( o.o )       ( -.- )      ( ^_^ )     o-''|\\_____/).    ( ^_^ )\n",
        " \\_/|_)     )    > ^ <         > * <        >💖<         \\_/|_)     )     / >🌸< \\\n",
        "    \\  __  /                                              \\  __  /         /   \\\n",
        "    (_/ (_/                                               (_/ (_/        (___|___)\n",
        "```\n"
      ],
      "metadata": {
        "id": "2oLP69mlyNN-"
      },
      "id": "2oLP69mlyNN-"
    }
  ],
  "metadata": {
    "colab": {
      "provenance": [],
      "include_colab_link": true
    },
    "kernelspec": {
      "display_name": "Python 3",
      "name": "python3"
    },
    "language_info": {
      "name": "python"
    }
  },
  "nbformat": 4,
  "nbformat_minor": 5
}